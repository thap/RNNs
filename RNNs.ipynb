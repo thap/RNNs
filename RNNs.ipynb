{
 "cells": [
  {
   "cell_type": "code",
   "execution_count": 1,
   "metadata": {},
   "outputs": [],
   "source": [
    "import numpy as np"
   ]
  },
  {
   "cell_type": "code",
   "execution_count": 5,
   "metadata": {},
   "outputs": [
    {
     "data": {
      "text/plain": [
       "array([[0.5388596 , 0.56637606, 0.23891873],\n",
       "       [0.11255686, 0.48044045, 0.60019331]])"
      ]
     },
     "execution_count": 5,
     "metadata": {},
     "output_type": "execute_result"
    }
   ],
   "source": [
    "np.random.rand(2, 3)"
   ]
  },
  {
   "cell_type": "code",
   "execution_count": 6,
   "metadata": {},
   "outputs": [],
   "source": [
    "def generate_time_series(batch_size, n_steps):\n",
    "    freq1, freq2, offsets1, offsets2 = np.random.rand(4, batch_size, 1)\n",
    "    time = np.linspace(0, 1, n_steps)\n",
    "    series = 0.5 * np.sin((time - offsets1) * (freq1 * 10 + 10))  #   wave 1\n",
    "    series += 0.2 * np.sin((time - offsets2) * (freq2 * 20 + 20)) # + wave 2\n",
    "    series += 0.1 * (np.random.rand(batch_size, n_steps) - 0.5)   # + noise\n",
    "    return series[..., np.newaxis].astype(np.float32)"
   ]
  },
  {
   "cell_type": "code",
   "execution_count": 7,
   "metadata": {},
   "outputs": [
    {
     "data": {
      "text/plain": [
       "array([[[-0.3894029 ],\n",
       "        [ 0.16537021],\n",
       "        [ 0.34966087]],\n",
       "\n",
       "       [[-0.25434828],\n",
       "        [ 0.0692047 ],\n",
       "        [ 0.2940133 ]]], dtype=float32)"
      ]
     },
     "execution_count": 7,
     "metadata": {},
     "output_type": "execute_result"
    }
   ],
   "source": [
    "generate_time_series(2, 3)"
   ]
  },
  {
   "cell_type": "code",
   "execution_count": 8,
   "metadata": {},
   "outputs": [],
   "source": [
    "n_steps = 50\n",
    "series = generate_time_series(10000, n_steps + 1)\n",
    "X_train, y_train = series[:7000, :n_steps], series[:7000, -1]\n",
    "X_valid, y_valid = series[7000:9000, :n_steps], series[7000:9000, -1]\n",
    "X_test, y_test = series[9000:, :n_steps], series[9000:, -1]"
   ]
  },
  {
   "cell_type": "code",
   "execution_count": 9,
   "metadata": {},
   "outputs": [],
   "source": [
    "y_pred = X_valid[:, -1]"
   ]
  },
  {
   "cell_type": "code",
   "execution_count": 11,
   "metadata": {},
   "outputs": [],
   "source": [
    "from tensorflow import keras"
   ]
  },
  {
   "cell_type": "code",
   "execution_count": 12,
   "metadata": {},
   "outputs": [
    {
     "data": {
      "text/plain": [
       "0.019743096"
      ]
     },
     "execution_count": 12,
     "metadata": {},
     "output_type": "execute_result"
    }
   ],
   "source": [
    "np.mean(keras.losses.mean_squared_error(y_valid, y_pred))"
   ]
  },
  {
   "cell_type": "code",
   "execution_count": 13,
   "metadata": {},
   "outputs": [],
   "source": [
    "model = keras.models.Sequential([\n",
    "    keras.layers.Flatten(input_shape=[50, 1]),\n",
    "    keras.layers.Dense(1)\n",
    "])"
   ]
  },
  {
   "cell_type": "code",
   "execution_count": 14,
   "metadata": {},
   "outputs": [],
   "source": [
    "model.compile(loss='mse', optimizer='adam')"
   ]
  },
  {
   "cell_type": "code",
   "execution_count": 17,
   "metadata": {},
   "outputs": [
    {
     "name": "stdout",
     "output_type": "stream",
     "text": [
      "Train on 7000 samples\n",
      "Epoch 1/20\n",
      "7000/7000 [==============================] - 0s 22us/sample - loss: 0.0178\n",
      "Epoch 2/20\n",
      "7000/7000 [==============================] - 0s 19us/sample - loss: 0.0109\n",
      "Epoch 3/20\n",
      "7000/7000 [==============================] - 0s 20us/sample - loss: 0.0085\n",
      "Epoch 4/20\n",
      "7000/7000 [==============================] - 0s 20us/sample - loss: 0.0074\n",
      "Epoch 5/20\n",
      "7000/7000 [==============================] - 0s 20us/sample - loss: 0.0068\n",
      "Epoch 6/20\n",
      "7000/7000 [==============================] - 0s 19us/sample - loss: 0.0062\n",
      "Epoch 7/20\n",
      "7000/7000 [==============================] - 0s 19us/sample - loss: 0.0058\n",
      "Epoch 8/20\n",
      "7000/7000 [==============================] - 0s 19us/sample - loss: 0.0054\n",
      "Epoch 9/20\n",
      "7000/7000 [==============================] - 0s 19us/sample - loss: 0.0051\n",
      "Epoch 10/20\n",
      "7000/7000 [==============================] - 0s 19us/sample - loss: 0.0049\n",
      "Epoch 11/20\n",
      "7000/7000 [==============================] - 0s 19us/sample - loss: 0.0046\n",
      "Epoch 12/20\n",
      "7000/7000 [==============================] - 0s 19us/sample - loss: 0.0045\n",
      "Epoch 13/20\n",
      "7000/7000 [==============================] - 0s 19us/sample - loss: 0.0043\n",
      "Epoch 14/20\n",
      "7000/7000 [==============================] - 0s 19us/sample - loss: 0.0042\n",
      "Epoch 15/20\n",
      "7000/7000 [==============================] - 0s 19us/sample - loss: 0.0041\n",
      "Epoch 16/20\n",
      "7000/7000 [==============================] - 0s 19us/sample - loss: 0.0040\n",
      "Epoch 17/20\n",
      "7000/7000 [==============================] - 0s 19us/sample - loss: 0.0039\n",
      "Epoch 18/20\n",
      "7000/7000 [==============================] - 0s 19us/sample - loss: 0.0038\n",
      "Epoch 19/20\n",
      "7000/7000 [==============================] - 0s 19us/sample - loss: 0.0037\n",
      "Epoch 20/20\n",
      "7000/7000 [==============================] - 0s 19us/sample - loss: 0.0036\n"
     ]
    },
    {
     "data": {
      "text/plain": [
       "<tensorflow.python.keras.callbacks.History at 0x7fa2c81a19d0>"
      ]
     },
     "execution_count": 17,
     "metadata": {},
     "output_type": "execute_result"
    }
   ],
   "source": [
    "model.fit(X_train, y_train, epochs=20)"
   ]
  },
  {
   "cell_type": "code",
   "execution_count": 18,
   "metadata": {},
   "outputs": [
    {
     "name": "stdout",
     "output_type": "stream",
     "text": [
      "2000/2000 [==============================] - 0s 15us/sample - loss: 0.0036\n"
     ]
    },
    {
     "data": {
      "text/plain": [
       "0.0036009827218949795"
      ]
     },
     "execution_count": 18,
     "metadata": {},
     "output_type": "execute_result"
    }
   ],
   "source": [
    "model.evaluate(X_valid, y_valid)"
   ]
  },
  {
   "cell_type": "code",
   "execution_count": 19,
   "metadata": {},
   "outputs": [],
   "source": [
    "model = keras.models.Sequential([keras.layers.SimpleRNN(1, input_shape=[None, 1])])"
   ]
  },
  {
   "cell_type": "code",
   "execution_count": 20,
   "metadata": {},
   "outputs": [],
   "source": [
    "model.compile(loss='mse',  optimizer='adam')"
   ]
  },
  {
   "cell_type": "code",
   "execution_count": 21,
   "metadata": {},
   "outputs": [
    {
     "name": "stdout",
     "output_type": "stream",
     "text": [
      "Train on 7000 samples\n",
      "Epoch 1/20\n",
      "7000/7000 [==============================] - 2s 267us/sample - loss: 0.2913\n",
      "Epoch 2/20\n",
      "7000/7000 [==============================] - 1s 201us/sample - loss: 0.1735\n",
      "Epoch 3/20\n",
      "7000/7000 [==============================] - 1s 201us/sample - loss: 0.0834\n",
      "Epoch 4/20\n",
      "7000/7000 [==============================] - 1s 201us/sample - loss: 0.0454\n",
      "Epoch 5/20\n",
      "7000/7000 [==============================] - 1s 201us/sample - loss: 0.0352\n",
      "Epoch 6/20\n",
      "7000/7000 [==============================] - 1s 201us/sample - loss: 0.0317\n",
      "Epoch 7/20\n",
      "7000/7000 [==============================] - 1s 203us/sample - loss: 0.0293\n",
      "Epoch 8/20\n",
      "7000/7000 [==============================] - 1s 202us/sample - loss: 0.0272\n",
      "Epoch 9/20\n",
      "7000/7000 [==============================] - 1s 201us/sample - loss: 0.0253\n",
      "Epoch 10/20\n",
      "7000/7000 [==============================] - 1s 200us/sample - loss: 0.0235\n",
      "Epoch 11/20\n",
      "7000/7000 [==============================] - 1s 200us/sample - loss: 0.0220\n",
      "Epoch 12/20\n",
      "7000/7000 [==============================] - 1s 200us/sample - loss: 0.0206\n",
      "Epoch 13/20\n",
      "7000/7000 [==============================] - 1s 200us/sample - loss: 0.0194\n",
      "Epoch 14/20\n",
      "7000/7000 [==============================] - 1s 201us/sample - loss: 0.0183\n",
      "Epoch 15/20\n",
      "7000/7000 [==============================] - 1s 201us/sample - loss: 0.0173\n",
      "Epoch 16/20\n",
      "7000/7000 [==============================] - 1s 205us/sample - loss: 0.0164\n",
      "Epoch 17/20\n",
      "7000/7000 [==============================] - 1s 202us/sample - loss: 0.0156\n",
      "Epoch 18/20\n",
      "7000/7000 [==============================] - 1s 202us/sample - loss: 0.0149\n",
      "Epoch 19/20\n",
      "7000/7000 [==============================] - 1s 203us/sample - loss: 0.0143\n",
      "Epoch 20/20\n",
      "7000/7000 [==============================] - 1s 204us/sample - loss: 0.0137\n"
     ]
    },
    {
     "data": {
      "text/plain": [
       "<tensorflow.python.keras.callbacks.History at 0x7fa2d833e4d0>"
      ]
     },
     "execution_count": 21,
     "metadata": {},
     "output_type": "execute_result"
    }
   ],
   "source": [
    "model.fit(X_train, y_train, epochs=20)"
   ]
  },
  {
   "cell_type": "code",
   "execution_count": 22,
   "metadata": {},
   "outputs": [
    {
     "name": "stdout",
     "output_type": "stream",
     "text": [
      "2000/2000 [==============================] - 0s 99us/sample - loss: 0.0128\n"
     ]
    },
    {
     "data": {
      "text/plain": [
       "0.012811847500503064"
      ]
     },
     "execution_count": 22,
     "metadata": {},
     "output_type": "execute_result"
    }
   ],
   "source": [
    "model.evaluate(X_valid, y_valid)"
   ]
  },
  {
   "cell_type": "code",
   "execution_count": 23,
   "metadata": {},
   "outputs": [],
   "source": [
    "model = keras.models.Sequential([\n",
    "  keras.layers.SimpleRNN(20, return_sequences=True, input_shape=[None, 1]),\n",
    "  keras.layers.SimpleRNN(20, return_sequences=True),\n",
    "  keras.layers.SimpleRNN(1)\n",
    "])"
   ]
  },
  {
   "cell_type": "code",
   "execution_count": 24,
   "metadata": {},
   "outputs": [],
   "source": [
    "model.compile(loss='mse', optimizer='adam')"
   ]
  },
  {
   "cell_type": "code",
   "execution_count": 26,
   "metadata": {},
   "outputs": [
    {
     "name": "stdout",
     "output_type": "stream",
     "text": [
      "Train on 7000 samples\n",
      "Epoch 1/20\n",
      "7000/7000 [==============================] - 6s 868us/sample - loss: 0.0869\n",
      "Epoch 2/20\n",
      "7000/7000 [==============================] - 5s 702us/sample - loss: 0.0092\n",
      "Epoch 3/20\n",
      "7000/7000 [==============================] - 5s 690us/sample - loss: 0.0064\n",
      "Epoch 4/20\n",
      "7000/7000 [==============================] - 5s 689us/sample - loss: 0.0051\n",
      "Epoch 5/20\n",
      "7000/7000 [==============================] - 5s 686us/sample - loss: 0.0047\n",
      "Epoch 6/20\n",
      "7000/7000 [==============================] - 5s 693us/sample - loss: 0.0041\n",
      "Epoch 7/20\n",
      "7000/7000 [==============================] - 5s 687us/sample - loss: 0.0041\n",
      "Epoch 8/20\n",
      "7000/7000 [==============================] - 5s 690us/sample - loss: 0.0037\n",
      "Epoch 9/20\n",
      "7000/7000 [==============================] - 5s 689us/sample - loss: 0.0037\n",
      "Epoch 10/20\n",
      "7000/7000 [==============================] - 5s 692us/sample - loss: 0.0036\n",
      "Epoch 11/20\n",
      "7000/7000 [==============================] - 5s 701us/sample - loss: 0.0038\n",
      "Epoch 12/20\n",
      "7000/7000 [==============================] - 5s 695us/sample - loss: 0.0033\n",
      "Epoch 13/20\n",
      "7000/7000 [==============================] - 5s 701us/sample - loss: 0.0034\n",
      "Epoch 14/20\n",
      "7000/7000 [==============================] - 5s 692us/sample - loss: 0.0034\n",
      "Epoch 15/20\n",
      "7000/7000 [==============================] - 5s 700us/sample - loss: 0.0033\n",
      "Epoch 16/20\n",
      "7000/7000 [==============================] - 5s 693us/sample - loss: 0.0034\n",
      "Epoch 17/20\n",
      "7000/7000 [==============================] - 5s 703us/sample - loss: 0.0032\n",
      "Epoch 18/20\n",
      "7000/7000 [==============================] - 5s 695us/sample - loss: 0.0031\n",
      "Epoch 19/20\n",
      "7000/7000 [==============================] - 5s 695us/sample - loss: 0.0031\n",
      "Epoch 20/20\n",
      "7000/7000 [==============================] - 5s 696us/sample - loss: 0.0032\n"
     ]
    },
    {
     "data": {
      "text/plain": [
       "<tensorflow.python.keras.callbacks.History at 0x7fa2f8b7b390>"
      ]
     },
     "execution_count": 26,
     "metadata": {},
     "output_type": "execute_result"
    }
   ],
   "source": [
    "model.fit(X_train, y_train, epochs=20)"
   ]
  },
  {
   "cell_type": "code",
   "execution_count": 27,
   "metadata": {},
   "outputs": [
    {
     "name": "stdout",
     "output_type": "stream",
     "text": [
      "2000/2000 [==============================] - 1s 272us/sample - loss: 0.0037\n"
     ]
    },
    {
     "data": {
      "text/plain": [
       "0.0036893334835767745"
      ]
     },
     "execution_count": 27,
     "metadata": {},
     "output_type": "execute_result"
    }
   ],
   "source": [
    "model.evaluate(X_valid, y_valid)"
   ]
  },
  {
   "cell_type": "code",
   "execution_count": null,
   "metadata": {},
   "outputs": [],
   "source": []
  }
 ],
 "metadata": {
  "kernelspec": {
   "display_name": "tensorflow2",
   "language": "python",
   "name": "tensorflow2"
  },
  "language_info": {
   "codemirror_mode": {
    "name": "ipython",
    "version": 3
   },
   "file_extension": ".py",
   "mimetype": "text/x-python",
   "name": "python",
   "nbconvert_exporter": "python",
   "pygments_lexer": "ipython3",
   "version": "3.7.6"
  }
 },
 "nbformat": 4,
 "nbformat_minor": 4
}
